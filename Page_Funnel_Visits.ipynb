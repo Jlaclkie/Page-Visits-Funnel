{
 "cells": [
  {
   "cell_type": "markdown",
   "metadata": {},
   "source": [
    "# Page Visits Funnel\n",
    "Cool T-Shirts Inc. has asked you to analyze data on visits to their website. Your job is to build a funnel, which is a description of how many people continue to the next step of a multi-step process.\n",
    "\n",
    "In this case, our funnel is going to describe the following process:\n",
    "\n",
    "A user visits CoolTShirts.com\n",
    "A user adds a t-shirt to their cart\n",
    "A user clicks “checkout”\n",
    "A user actually purchases a t-shirt"
   ]
  },
  {
   "cell_type": "code",
   "execution_count": 6,
   "metadata": {},
   "outputs": [],
   "source": [
    "import pandas as pd"
   ]
  },
  {
   "cell_type": "markdown",
   "metadata": {},
   "source": [
    "Import all the files"
   ]
  },
  {
   "cell_type": "code",
   "execution_count": 7,
   "metadata": {},
   "outputs": [],
   "source": [
    "visits = pd.read_csv('visits.csv',\n",
    "                     parse_dates=[1])\n",
    "cart = pd.read_csv('cart.csv',\n",
    "                   parse_dates=[1])\n",
    "                   \n",
    "checkout = pd.read_csv('checkout.csv',\n",
    "                       parse_dates=[1])\n",
    "purchase = pd.read_csv('purchase.csv',\n",
    "                       parse_dates=[1])"
   ]
  },
  {
   "cell_type": "markdown",
   "metadata": {},
   "source": [
    "Step 1: Inspect the DataFrames using `print` and `head`"
   ]
  },
  {
   "cell_type": "code",
   "execution_count": 8,
   "metadata": {},
   "outputs": [
    {
     "name": "stdout",
     "output_type": "stream",
     "text": [
      "                                user_id          visit_time\n",
      "0  943647ef-3682-4750-a2e1-918ba6f16188 2017-04-07 15:14:00\n",
      "1  0c3a3dd0-fb64-4eac-bf84-ba069ce409f2 2017-01-26 14:24:00\n",
      "2  6e0b2d60-4027-4d9a-babd-0e7d40859fb1 2017-08-20 08:23:00\n",
      "3  6879527e-c5a6-4d14-b2da-50b85212b0ab 2017-11-04 18:15:00\n",
      "4  a84327ff-5daa-4ba1-b789-d5b4caf81e96 2017-02-27 11:25:00\n",
      "                                user_id           cart_time\n",
      "0  2be90e7c-9cca-44e0-bcc5-124b945ff168 2017-11-07 20:45:00\n",
      "1  4397f73f-1da3-4ab3-91af-762792e25973 2017-05-27 01:35:00\n",
      "2  a9db3d4b-0a0a-4398-a55a-ebb2c7adf663 2017-03-04 10:38:00\n",
      "3  b594862a-36c5-47d5-b818-6e9512b939b3 2017-09-27 08:22:00\n",
      "4  a68a16e2-94f0-4ce8-8ce3-784af0bbb974 2017-07-26 15:48:00\n",
      "                                user_id       checkout_time\n",
      "0  d33bdc47-4afa-45bc-b4e4-dbe948e34c0d 2017-06-25 09:29:00\n",
      "1  4ac186f0-9954-4fea-8a27-c081e428e34e 2017-04-07 20:11:00\n",
      "2  3c9c78a7-124a-4b77-8d2e-e1926e011e7d 2017-07-13 11:38:00\n",
      "3  89fe330a-8966-4756-8f7c-3bdbcd47279a 2017-04-20 16:15:00\n",
      "4  3ccdaf69-2d30-40de-b083-51372881aedd 2017-01-08 20:52:00\n",
      "                                user_id       purchase_time\n",
      "0  4b44ace4-2721-47a0-b24b-15fbfa2abf85 2017-05-11 04:25:00\n",
      "1  02e684ae-a448-408f-a9ff-dcb4a5c99aac 2017-09-05 08:45:00\n",
      "2  4b4bc391-749e-4b90-ab8f-4f6e3c84d6dc 2017-11-20 20:49:00\n",
      "3  a5dbb25f-3c36-4103-9030-9f7c6241cd8d 2017-01-22 15:18:00\n",
      "4  46a3186d-7f5a-4ab9-87af-84d05bfd4867 2017-06-11 11:32:00\n"
     ]
    }
   ],
   "source": [
    "print(visits.head(5))\n",
    "print(cart.head(5))\n",
    "print(checkout.head(5))\n",
    "print(purchase.head(5))"
   ]
  },
  {
   "cell_type": "markdown",
   "metadata": {},
   "source": [
    "Step 2: Left merging visits and cart"
   ]
  },
  {
   "cell_type": "code",
   "execution_count": 9,
   "metadata": {},
   "outputs": [
    {
     "name": "stdout",
     "output_type": "stream",
     "text": [
      "                                   user_id          visit_time  \\\n",
      "0     943647ef-3682-4750-a2e1-918ba6f16188 2017-04-07 15:14:00   \n",
      "1     0c3a3dd0-fb64-4eac-bf84-ba069ce409f2 2017-01-26 14:24:00   \n",
      "2     6e0b2d60-4027-4d9a-babd-0e7d40859fb1 2017-08-20 08:23:00   \n",
      "3     6879527e-c5a6-4d14-b2da-50b85212b0ab 2017-11-04 18:15:00   \n",
      "4     a84327ff-5daa-4ba1-b789-d5b4caf81e96 2017-02-27 11:25:00   \n",
      "...                                    ...                 ...   \n",
      "1995  33913ac2-03da-45ae-8fc3-fea39df827c6 2017-03-25 03:29:00   \n",
      "1996  4f850132-b99d-4623-80e6-6e61d003577e 2017-01-08 09:57:00   \n",
      "1997  f0830b9b-1f5c-4e74-b63d-3f847cc6ce70 2017-09-07 12:56:00   \n",
      "1998  b01bffa7-63ba-4cd3-9d93-eb1477c23831 2017-07-20 04:37:00   \n",
      "1999  0336ca81-8d68-443f-9248-ac0b8ad147d5 2017-11-15 10:11:00   \n",
      "\n",
      "               cart_time  \n",
      "0                    NaT  \n",
      "1    2017-01-26 14:44:00  \n",
      "2    2017-08-20 08:31:00  \n",
      "3                    NaT  \n",
      "4                    NaT  \n",
      "...                  ...  \n",
      "1995                 NaT  \n",
      "1996                 NaT  \n",
      "1997                 NaT  \n",
      "1998                 NaT  \n",
      "1999                 NaT  \n",
      "\n",
      "[2000 rows x 3 columns]\n"
     ]
    }
   ],
   "source": [
    "visit_carts = pd.merge(\n",
    "  visits,\n",
    "  cart,\n",
    "  how = 'left'\n",
    ")\n",
    "print(visit_carts)"
   ]
  },
  {
   "cell_type": "markdown",
   "metadata": {},
   "source": [
    "Step 3: How long is `visits_cart`?"
   ]
  },
  {
   "cell_type": "code",
   "execution_count": 10,
   "metadata": {},
   "outputs": [
    {
     "name": "stdout",
     "output_type": "stream",
     "text": [
      "2000\n"
     ]
    }
   ],
   "source": [
    "print(len(visit_carts))"
   ]
  },
  {
   "cell_type": "markdown",
   "metadata": {},
   "source": [
    "Step 4: How many timestamps are null for `cart_time`?"
   ]
  },
  {
   "cell_type": "code",
   "execution_count": 11,
   "metadata": {},
   "outputs": [
    {
     "name": "stdout",
     "output_type": "stream",
     "text": [
      "1652\n"
     ]
    }
   ],
   "source": [
    "null_timestamp = visit_carts[visit_carts['cart_time'].isnull()]\n",
    "print(len(null_timestamp))"
   ]
  },
  {
   "cell_type": "markdown",
   "metadata": {},
   "source": [
    "Step 5: What percentage only visited?"
   ]
  },
  {
   "cell_type": "code",
   "execution_count": 13,
   "metadata": {},
   "outputs": [
    {
     "name": "stdout",
     "output_type": "stream",
     "text": [
      "The percentage that of users who visited the website but not placing a t-shirt in their cart is 82.6%\n",
      "\n"
     ]
    }
   ],
   "source": [
    "cart_time_null = visit_carts[visit_carts['cart_time'].isnull()]\n",
    "\n",
    "all_null = cart_time_null['user_id'].count()\n",
    "all_visit = visit_carts['user_id'].count()\n",
    "\n",
    "percentage_null = (all_null/all_visit)*100\n",
    "print('The percentage that of users who visited the website but not placing a t-shirt in their cart is {}%\\n'.format(percentage_null))\n"
   ]
  },
  {
   "cell_type": "markdown",
   "metadata": {},
   "source": [
    "Step 6: What percentage placed a t-shirt in their cart but did not checkout?"
   ]
  },
  {
   "cell_type": "code",
   "execution_count": 14,
   "metadata": {},
   "outputs": [
    {
     "name": "stdout",
     "output_type": "stream",
     "text": [
      "The percentage of users put items in their cart, but did not proceed to checkout is 35.06%\n",
      "\n"
     ]
    }
   ],
   "source": [
    "cart_checkout = pd.merge(\n",
    "  cart,\n",
    "  checkout,\n",
    "  how='left'\n",
    ")\n",
    "#print(cart_checkout)\n",
    "checkout_time_null = cart_checkout[cart_checkout['checkout_time'].isnull()]\n",
    "\n",
    "all_checkout_null = len(checkout_time_null)\n",
    "all_cart = len(cart_checkout)\n",
    "\n",
    "percentage_checkout = round(all_checkout_null*100/all_cart,2)\n",
    "\n",
    "print('The percentage of users put items in their cart, but did not proceed to checkout is {}%\\n'.format(percentage_checkout))\n"
   ]
  },
  {
   "cell_type": "markdown",
   "metadata": {},
   "source": [
    "Step 7: Merge it all together"
   ]
  },
  {
   "cell_type": "code",
   "execution_count": 16,
   "metadata": {},
   "outputs": [],
   "source": [
    "all_data = visit_carts.merge(\n",
    "  cart_checkout,\n",
    "  how='left'\n",
    ").merge(\n",
    "  purchase,\n",
    "  how='left'\n",
    ")\n"
   ]
  },
  {
   "cell_type": "markdown",
   "metadata": {},
   "source": [
    "Step 8: % of users who got to checkout but did not purchase"
   ]
  },
  {
   "cell_type": "code",
   "execution_count": 17,
   "metadata": {},
   "outputs": [
    {
     "name": "stdout",
     "output_type": "stream",
     "text": [
      "The percentage of users proceeded to checkout, but did not purchase a t-shirt is 3.89%\n",
      "\n"
     ]
    }
   ],
   "source": [
    "all_data_checkout = all_data.loc[pd.notna(all_data['checkout_time'])]\n",
    "\n",
    "all_data_checkout_purchase = all_data_checkout[all_data_checkout['purchase_time'].isnull()]\n",
    "\n",
    "len_all_data = len(all_data)\n",
    "len_all_data_checkout_purchase = len(all_data_checkout_purchase)\n",
    "\n",
    "percentage_all_data_null = round(len_all_data_checkout_purchase * 100/ len_all_data,2)\n",
    "\n",
    "print('The percentage of users proceeded to checkout, but did not purchase a t-shirt is {}%\\n'.format(percentage_all_data_null))"
   ]
  },
  {
   "cell_type": "markdown",
   "metadata": {},
   "source": [
    "Step 9: check each part of the funnel, let's print all 3 of them again"
   ]
  },
  {
   "cell_type": "code",
   "execution_count": 18,
   "metadata": {},
   "outputs": [
    {
     "name": "stdout",
     "output_type": "stream",
     "text": [
      "The highest percentage is visiting the website but not placing a t-shirt in their cart.\n",
      "\n"
     ]
    }
   ],
   "source": [
    "print('The highest percentage is visiting the website but not placing a t-shirt in their cart.\\n')"
   ]
  },
  {
   "cell_type": "markdown",
   "metadata": {},
   "source": [
    "*The weakest part of the funnel is clearly getting a person who visited the site to add a tshirt to their cart. Once they've added a t-shirt to their cart it is fairly likely they end up purchasing it. A suggestion could be to make the add-to-cart button more prominent on the front page.*\n",
    "\n",
    "\n",
    "Step 10: adding new column"
   ]
  },
  {
   "cell_type": "code",
   "execution_count": 19,
   "metadata": {},
   "outputs": [],
   "source": [
    "all_data['average_time'] = all_data['purchase_time']-all_data['visit_time']"
   ]
  },
  {
   "cell_type": "markdown",
   "metadata": {},
   "source": [
    "Step 11: examine the results"
   ]
  },
  {
   "cell_type": "code",
   "execution_count": 20,
   "metadata": {},
   "outputs": [
    {
     "name": "stdout",
     "output_type": "stream",
     "text": [
      "                                   user_id          visit_time  \\\n",
      "0     943647ef-3682-4750-a2e1-918ba6f16188 2017-04-07 15:14:00   \n",
      "1     0c3a3dd0-fb64-4eac-bf84-ba069ce409f2 2017-01-26 14:24:00   \n",
      "2     6e0b2d60-4027-4d9a-babd-0e7d40859fb1 2017-08-20 08:23:00   \n",
      "3     6879527e-c5a6-4d14-b2da-50b85212b0ab 2017-11-04 18:15:00   \n",
      "4     a84327ff-5daa-4ba1-b789-d5b4caf81e96 2017-02-27 11:25:00   \n",
      "...                                    ...                 ...   \n",
      "2103  33913ac2-03da-45ae-8fc3-fea39df827c6 2017-03-25 03:29:00   \n",
      "2104  4f850132-b99d-4623-80e6-6e61d003577e 2017-01-08 09:57:00   \n",
      "2105  f0830b9b-1f5c-4e74-b63d-3f847cc6ce70 2017-09-07 12:56:00   \n",
      "2106  b01bffa7-63ba-4cd3-9d93-eb1477c23831 2017-07-20 04:37:00   \n",
      "2107  0336ca81-8d68-443f-9248-ac0b8ad147d5 2017-11-15 10:11:00   \n",
      "\n",
      "               cart_time       checkout_time       purchase_time  \\\n",
      "0                    NaT                 NaT                 NaT   \n",
      "1    2017-01-26 14:44:00 2017-01-26 14:54:00 2017-01-26 15:08:00   \n",
      "2    2017-08-20 08:31:00                 NaT                 NaT   \n",
      "3                    NaT                 NaT                 NaT   \n",
      "4                    NaT                 NaT                 NaT   \n",
      "...                  ...                 ...                 ...   \n",
      "2103                 NaT                 NaT                 NaT   \n",
      "2104                 NaT                 NaT                 NaT   \n",
      "2105                 NaT                 NaT                 NaT   \n",
      "2106                 NaT                 NaT                 NaT   \n",
      "2107                 NaT                 NaT                 NaT   \n",
      "\n",
      "        average_time  \n",
      "0                NaT  \n",
      "1    0 days 00:44:00  \n",
      "2                NaT  \n",
      "3                NaT  \n",
      "4                NaT  \n",
      "...              ...  \n",
      "2103             NaT  \n",
      "2104             NaT  \n",
      "2105             NaT  \n",
      "2106             NaT  \n",
      "2107             NaT  \n",
      "\n",
      "[2108 rows x 6 columns]\n"
     ]
    }
   ],
   "source": [
    "print(all_data)"
   ]
  },
  {
   "cell_type": "markdown",
   "metadata": {},
   "source": [
    "Step 12: average time to purchase"
   ]
  },
  {
   "cell_type": "code",
   "execution_count": 22,
   "metadata": {},
   "outputs": [
    {
     "name": "stdout",
     "output_type": "stream",
     "text": [
      "The average time to purchase is 2017-06-12 07:04:02.380952320\n"
     ]
    }
   ],
   "source": [
    "avg_purchase_time = all_data['purchase_time'].mean()\n",
    "print('The average time to purchase is {}'.format(avg_purchase_time))"
   ]
  }
 ],
 "metadata": {
  "kernelspec": {
   "display_name": "Python 3.9.7 ('base')",
   "language": "python",
   "name": "python3"
  },
  "language_info": {
   "codemirror_mode": {
    "name": "ipython",
    "version": 3
   },
   "file_extension": ".py",
   "mimetype": "text/x-python",
   "name": "python",
   "nbconvert_exporter": "python",
   "pygments_lexer": "ipython3",
   "version": "3.9.7"
  },
  "vscode": {
   "interpreter": {
    "hash": "8db4d4f59513d10e6fe3fb062e194adc743b3ca6f25ae88aed637aefb67b2f06"
   }
  }
 },
 "nbformat": 4,
 "nbformat_minor": 4
}
